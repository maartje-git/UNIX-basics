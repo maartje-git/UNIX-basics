{
 "cells": [
  {
   "cell_type": "markdown",
   "id": "15a4ba3e-240a-47d4-81ec-2056ab465c1c",
   "metadata": {},
   "source": [
    "# General UNIX notebook\n",
    "### This workflow gives a basic introduction into the command line\n",
    "#### 210716 ~ Maartje Brouwer"
   ]
  },
  {
   "cell_type": "markdown",
   "id": "01ed9c36-5b0d-4a0a-a074-cf1cea8a8e77",
   "metadata": {},
   "source": [
    "### Basics\n",
    "Shell = a program that opens a window and lets you interact with the shell  \n",
    "Terminal = A Program that takes commands from the keyboard and gives them to the operating system"
   ]
  },
  {
   "cell_type": "code",
   "execution_count": 16,
   "id": "75c7806e-c2bb-484f-bb32-c6b490acc27a",
   "metadata": {},
   "outputs": [
    {
     "data": {
      "text/plain": [
       "'C:\\\\Users\\\\mbrouwer\\\\Documents\\\\UNIX-basics'"
      ]
     },
     "execution_count": 16,
     "metadata": {},
     "output_type": "execute_result"
    }
   ],
   "source": [
    "pwd"
   ]
  },
  {
   "cell_type": "code",
   "execution_count": 25,
   "id": "1cf17226-cee7-4edd-bd3f-3d0b5ecd5ae1",
   "metadata": {},
   "outputs": [
    {
     "name": "stdout",
     "output_type": "stream",
     "text": [
      "C:\\Users\\mbrouwer\\Documents\n"
     ]
    }
   ],
   "source": [
    "cd .."
   ]
  },
  {
   "cell_type": "code",
   "execution_count": 26,
   "id": "bafcc0f4-042e-4f4d-9978-cc1f97eb9d38",
   "metadata": {},
   "outputs": [
    {
     "data": {
      "text/plain": [
       "'C:\\\\Users\\\\mbrouwer\\\\Documents'"
      ]
     },
     "execution_count": 26,
     "metadata": {},
     "output_type": "execute_result"
    }
   ],
   "source": [
    "pwd"
   ]
  },
  {
   "cell_type": "code",
   "execution_count": 32,
   "id": "22c50cd5-1466-425b-bdcf-83611fa0a946",
   "metadata": {},
   "outputs": [
    {
     "name": "stdout",
     "output_type": "stream",
     "text": [
      "C:\\Users\\mbrouwer\n"
     ]
    }
   ],
   "source": [
    "cd ~"
   ]
  },
  {
   "cell_type": "code",
   "execution_count": 38,
   "id": "0f3642c6-da3f-454c-8d82-b44b1d357d78",
   "metadata": {},
   "outputs": [
    {
     "ename": "SyntaxError",
     "evalue": "invalid syntax (<ipython-input-38-fa7fc186d27a>, line 1)",
     "output_type": "error",
     "traceback": [
      "\u001b[1;36m  File \u001b[1;32m\"<ipython-input-38-fa7fc186d27a>\"\u001b[1;36m, line \u001b[1;32m1\u001b[0m\n\u001b[1;33m    ssh -X mbrouwer@ada.nioz.nl\u001b[0m\n\u001b[1;37m           ^\u001b[0m\n\u001b[1;31mSyntaxError\u001b[0m\u001b[1;31m:\u001b[0m invalid syntax\n"
     ]
    }
   ],
   "source": []
  }
 ],
 "metadata": {
  "kernelspec": {
   "display_name": "Python 3",
   "language": "python",
   "name": "python3"
  },
  "language_info": {
   "codemirror_mode": {
    "name": "ipython",
    "version": 3
   },
   "file_extension": ".py",
   "mimetype": "text/x-python",
   "name": "python",
   "nbconvert_exporter": "python",
   "pygments_lexer": "ipython3",
   "version": "3.9.4"
  }
 },
 "nbformat": 4,
 "nbformat_minor": 5
}
